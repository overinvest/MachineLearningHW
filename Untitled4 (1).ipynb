{
  "nbformat": 4,
  "nbformat_minor": 0,
  "metadata": {
    "colab": {
      "provenance": []
    },
    "kernelspec": {
      "name": "python3",
      "display_name": "Python 3"
    },
    "language_info": {
      "name": "python"
    }
  },
  "cells": [
    {
      "cell_type": "markdown",
      "source": [
        "```\n",
        "Описание задачи\n",
        "Задача: На основании данных о пользователях и их активности в приложении, необходимо предсказать метку label, которая указывает на статус пользователя (например, \"retained\" или иное состояние)\n",
        "```\n",
        "\n"
      ],
      "metadata": {
        "id": "MfXak7XqZhJk"
      }
    },
    {
      "cell_type": "markdown",
      "source": [
        "Структура данных:"
      ],
      "metadata": {
        "id": "S0felz-oZ5-5"
      }
    },
    {
      "cell_type": "markdown",
      "source": [
        "\n",
        "Датасет содержит 13 столбцов и 14,999 записей."
      ],
      "metadata": {
        "id": "CROHov5XZ_Y2"
      }
    },
    {
      "cell_type": "markdown",
      "source": [
        "Основные столбцы включают:\n",
        "* label (целевая переменная): статус пользователя.\n",
        "* Признаки активности пользователя, такие как:\n",
        "** sessions, drives, total_sessions: информация о количестве сессий и поездок.\n",
        "** n_days_after_onboarding: количество дней после регистрации.\n",
        "** total_navigations_fav1 и total_navigations_fav2: общее количество навигаций по любимым местам.\n",
        "** driven_km_drives, duration_minutes_drives: километраж и продолжительность поездок.\n",
        "** activity_days и driving_days: количество активных и дней с поездками.\n",
        "** device: тип устройства (например, Android, iPhone).\n",
        "* В данных присутствуют пропуски в столбце label."
      ],
      "metadata": {
        "id": "DkESs5DJaCJ2"
      }
    },
    {
      "cell_type": "code",
      "source": [
        "!pip install ace-tools-open"
      ],
      "metadata": {
        "colab": {
          "base_uri": "https://localhost:8080/"
        },
        "id": "c5CE1ky5eXFs",
        "outputId": "e9deab77-9d80-4b67-b3c6-55e1c9012dee"
      },
      "execution_count": null,
      "outputs": [
        {
          "output_type": "stream",
          "name": "stdout",
          "text": [
            "Collecting ace-tools-open\n",
            "  Downloading ace_tools_open-0.1.0-py3-none-any.whl.metadata (1.1 kB)\n",
            "Requirement already satisfied: pandas in /usr/local/lib/python3.10/dist-packages (from ace-tools-open) (2.2.2)\n",
            "Collecting itables (from ace-tools-open)\n",
            "  Downloading itables-2.2.2-py3-none-any.whl.metadata (8.3 kB)\n",
            "Requirement already satisfied: IPython in /usr/local/lib/python3.10/dist-packages (from ace-tools-open) (7.34.0)\n",
            "Requirement already satisfied: setuptools>=18.5 in /usr/local/lib/python3.10/dist-packages (from IPython->ace-tools-open) (75.1.0)\n",
            "Collecting jedi>=0.16 (from IPython->ace-tools-open)\n",
            "  Downloading jedi-0.19.1-py2.py3-none-any.whl.metadata (22 kB)\n",
            "Requirement already satisfied: decorator in /usr/local/lib/python3.10/dist-packages (from IPython->ace-tools-open) (4.4.2)\n",
            "Requirement already satisfied: pickleshare in /usr/local/lib/python3.10/dist-packages (from IPython->ace-tools-open) (0.7.5)\n",
            "Requirement already satisfied: traitlets>=4.2 in /usr/local/lib/python3.10/dist-packages (from IPython->ace-tools-open) (5.7.1)\n",
            "Requirement already satisfied: prompt-toolkit!=3.0.0,!=3.0.1,<3.1.0,>=2.0.0 in /usr/local/lib/python3.10/dist-packages (from IPython->ace-tools-open) (3.0.48)\n",
            "Requirement already satisfied: pygments in /usr/local/lib/python3.10/dist-packages (from IPython->ace-tools-open) (2.18.0)\n",
            "Requirement already satisfied: backcall in /usr/local/lib/python3.10/dist-packages (from IPython->ace-tools-open) (0.2.0)\n",
            "Requirement already satisfied: matplotlib-inline in /usr/local/lib/python3.10/dist-packages (from IPython->ace-tools-open) (0.1.7)\n",
            "Requirement already satisfied: pexpect>4.3 in /usr/local/lib/python3.10/dist-packages (from IPython->ace-tools-open) (4.9.0)\n",
            "Requirement already satisfied: numpy in /usr/local/lib/python3.10/dist-packages (from itables->ace-tools-open) (1.26.4)\n",
            "Requirement already satisfied: python-dateutil>=2.8.2 in /usr/local/lib/python3.10/dist-packages (from pandas->ace-tools-open) (2.8.2)\n",
            "Requirement already satisfied: pytz>=2020.1 in /usr/local/lib/python3.10/dist-packages (from pandas->ace-tools-open) (2024.2)\n",
            "Requirement already satisfied: tzdata>=2022.7 in /usr/local/lib/python3.10/dist-packages (from pandas->ace-tools-open) (2024.2)\n",
            "Requirement already satisfied: parso<0.9.0,>=0.8.3 in /usr/local/lib/python3.10/dist-packages (from jedi>=0.16->IPython->ace-tools-open) (0.8.4)\n",
            "Requirement already satisfied: ptyprocess>=0.5 in /usr/local/lib/python3.10/dist-packages (from pexpect>4.3->IPython->ace-tools-open) (0.7.0)\n",
            "Requirement already satisfied: wcwidth in /usr/local/lib/python3.10/dist-packages (from prompt-toolkit!=3.0.0,!=3.0.1,<3.1.0,>=2.0.0->IPython->ace-tools-open) (0.2.13)\n",
            "Requirement already satisfied: six>=1.5 in /usr/local/lib/python3.10/dist-packages (from python-dateutil>=2.8.2->pandas->ace-tools-open) (1.16.0)\n",
            "Downloading ace_tools_open-0.1.0-py3-none-any.whl (3.0 kB)\n",
            "Downloading itables-2.2.2-py3-none-any.whl (1.4 MB)\n",
            "\u001b[2K   \u001b[90m━━━━━━━━━━━━━━━━━━━━━━━━━━━━━━━━━━━━━━━━\u001b[0m \u001b[32m1.4/1.4 MB\u001b[0m \u001b[31m30.2 MB/s\u001b[0m eta \u001b[36m0:00:00\u001b[0m\n",
            "\u001b[?25hDownloading jedi-0.19.1-py2.py3-none-any.whl (1.6 MB)\n",
            "\u001b[2K   \u001b[90m━━━━━━━━━━━━━━━━━━━━━━━━━━━━━━━━━━━━━━━━\u001b[0m \u001b[32m1.6/1.6 MB\u001b[0m \u001b[31m27.9 MB/s\u001b[0m eta \u001b[36m0:00:00\u001b[0m\n",
            "\u001b[?25hInstalling collected packages: jedi, itables, ace-tools-open\n",
            "Successfully installed ace-tools-open-0.1.0 itables-2.2.2 jedi-0.19.1\n"
          ]
        }
      ]
    },
    {
      "cell_type": "code",
      "source": [
        "import kagglehub\n",
        "\n",
        "# Download latest version\n",
        "path = kagglehub.dataset_download(\"joaofilipemarques/google-advanced-data-analytics-waze-user-data\")\n",
        "\n",
        "print(\"Path to dataset files:\", path)"
      ],
      "metadata": {
        "colab": {
          "base_uri": "https://localhost:8080/"
        },
        "id": "1ZUGXMiQbktC",
        "outputId": "d84d15ec-b6dc-4973-9c5c-e6a6c1781466"
      },
      "execution_count": null,
      "outputs": [
        {
          "output_type": "stream",
          "name": "stdout",
          "text": [
            "Path to dataset files: /root/.cache/kagglehub/datasets/joaofilipemarques/google-advanced-data-analytics-waze-user-data/versions/1\n"
          ]
        }
      ]
    },
    {
      "cell_type": "code",
      "source": [
        "import matplotlib.pyplot as plt\n",
        "import seaborn as sns\n",
        "import pandas as pd\n",
        "\n",
        "data = pd.read_csv(\"sample_data/waze_dataset.csv\")\n",
        "\n",
        "# Вычисление основных статистик\n",
        "data_describe = data.describe()\n",
        "\n",
        "data_cleaned_corr = data.drop(columns=['label', 'device'])\n",
        "\n",
        "# Корреляционная матрица для числовых признаков\n",
        "correlation_matrix = data_cleaned_corr.corr()\n",
        "\n",
        "# Визуализация корреляционной матрицы\n",
        "plt.figure(figsize=(10, 8))\n",
        "sns.heatmap(correlation_matrix, annot=True, cmap='coolwarm', fmt=\".2f\")\n",
        "plt.title('Корреляционная матрица числовых признаков')\n",
        "plt.tight_layout()"
      ],
      "metadata": {
        "colab": {
          "base_uri": "https://localhost:8080/",
          "height": 807
        },
        "id": "--6Hu1ofaXl9",
        "outputId": "614a4298-8718-4bbb-d158-5acc7b53492a"
      },
      "execution_count": null,
      "outputs": [
        {
          "output_type": "display_data",
          "data": {
            "text/plain": [
              "<Figure size 1000x800 with 2 Axes>"
            ],
            "image/png": "[encoded data removed]"
          },
          "metadata": {}
        }
      ]
    },
    {
      "cell_type": "markdown",
      "source": [
        "среднее количество сессий у пользователей составляет около 80, а средний километраж поездок — 4039 км"
      ],
      "metadata": {
        "id": "jkrziXpKfL58"
      }
    },
    {
      "cell_type": "markdown",
      "source": [
        "Можно заметить, что количество поездок и их общая продолжительность сильно коррелируют."
      ],
      "metadata": {
        "id": "iweofKr4fToo"
      }
    },
    {
      "cell_type": "markdown",
      "source": [
        "обработаем пропущенные значения в столбце label, чтобы можно было корректно использовать эти данные для построения модели"
      ],
      "metadata": {
        "id": "iA2BAOEjfccN"
      }
    },
    {
      "cell_type": "code",
      "source": [
        "# Проверка количества пропущенных значений в каждом столбце\n",
        "missing_values = data.isnull().sum()\n",
        "\n",
        "# Фокус на пропусках в столбце 'label'\n",
        "missing_label_count = missing_values['label']\n",
        "missing_values, missing_label_count\n"
      ],
      "metadata": {
        "colab": {
          "base_uri": "https://localhost:8080/"
        },
        "id": "qQxgf6szfAU-",
        "outputId": "b5bf6b50-e952-4f7f-fa77-a35372d03617"
      },
      "execution_count": null,
      "outputs": [
        {
          "output_type": "execute_result",
          "data": {
            "text/plain": [
              "(ID                           0\n",
              " label                      700\n",
              " sessions                     0\n",
              " drives                       0\n",
              " total_sessions               0\n",
              " n_days_after_onboarding      0\n",
              " total_navigations_fav1       0\n",
              " total_navigations_fav2       0\n",
              " driven_km_drives             0\n",
              " duration_minutes_drives      0\n",
              " activity_days                0\n",
              " driving_days                 0\n",
              " device                       0\n",
              " dtype: int64,\n",
              " 700)"
            ]
          },
          "metadata": {},
          "execution_count": 24
        }
      ]
    },
    {
      "cell_type": "markdown",
      "source": [
        "В данных обнаружено 700 пропущенных значений в столбце label, что составляет около 4.7% от общего количества записей"
      ],
      "metadata": {
        "id": "ZxZ_emn4fil-"
      }
    },
    {
      "cell_type": "markdown",
      "source": [
        "Удалим строки с пропущенными label"
      ],
      "metadata": {
        "id": "gLZAO3Vffm6N"
      }
    },
    {
      "cell_type": "code",
      "source": [
        "# Удаление строк с пропусками в столбце 'label'\n",
        "data_cleaned = data.dropna(subset=['label'])\n",
        "\n",
        "# Проверка размеров нового датасета\n",
        "new_shape = data_cleaned.shape\n",
        "new_shape\n"
      ],
      "metadata": {
        "colab": {
          "base_uri": "https://localhost:8080/"
        },
        "id": "uINriWuTfqOi",
        "outputId": "d8ed3156-e01f-4d32-eca4-419d3bba2895"
      },
      "execution_count": null,
      "outputs": [
        {
          "output_type": "execute_result",
          "data": {
            "text/plain": [
              "(14299, 13)"
            ]
          },
          "metadata": {},
          "execution_count": 26
        }
      ]
    },
    {
      "cell_type": "code",
      "source": [
        "# Закодируем категориальный признак 'device' с помощью one-hot encoding\n",
        "data_encoded = pd.get_dummies(data_cleaned, columns=['device'], drop_first=True)\n",
        "\n",
        "# Проверка первых строк преобразованного датасета\n",
        "data_encoded.head()\n"
      ],
      "metadata": {
        "colab": {
          "base_uri": "https://localhost:8080/",
          "height": 226
        },
        "id": "ApzDM8zmf2Ls",
        "outputId": "c7924b74-91fb-4e0a-dd8c-3c83ef73375e"
      },
      "execution_count": null,
      "outputs": [
        {
          "output_type": "execute_result",
          "data": {
            "text/plain": [
              "   ID     label  sessions  drives  total_sessions  n_days_after_onboarding  \\\n",
              "0   0  retained       283     226      296.748273                     2276   \n",
              "1   1  retained       133     107      326.896596                     1225   \n",
              "2   2  retained       114      95      135.522926                     2651   \n",
              "3   3  retained        49      40       67.589221                       15   \n",
              "4   4  retained        84      68      168.247020                     1562   \n",
              "\n",
              "   total_navigations_fav1  total_navigations_fav2  driven_km_drives  \\\n",
              "0                     208                       0       2628.845068   \n",
              "1                      19                      64      13715.920550   \n",
              "2                       0                       0       3059.148818   \n",
              "3                     322                       7        913.591123   \n",
              "4                     166                       5       3950.202008   \n",
              "\n",
              "   duration_minutes_drives  activity_days  driving_days  device_iPhone  \n",
              "0              1985.775061             28            19          False  \n",
              "1              3160.472914             13            11           True  \n",
              "2              1610.735904             14             8          False  \n",
              "3               587.196542              7             3           True  \n",
              "4              1219.555924             27            18          False  "
            ],
            "text/html": [
              "\n",
              "  <div id=\"df-04e9b3f4-2f3e-46bf-a62b-201b91319d7a\" class=\"colab-df-container\">\n",
              "    <div>\n",
              "<style scoped>\n",
              "    .dataframe tbody tr th:only-of-type {\n",
              "        vertical-align: middle;\n",
              "    }\n",
              "\n",
              "    .dataframe tbody tr th {\n",
              "        vertical-align: top;\n",
              "    }\n",
              "\n",
              "    .dataframe thead th {\n",
              "        text-align: right;\n",
              "    }\n",
              "</style>\n",
              "<table border=\"1\" class=\"dataframe\">\n",
              "  <thead>\n",
              "    <tr style=\"text-align: right;\">\n",
              "      <th></th>\n",
              "      <th>ID</th>\n",
              "      <th>label</th>\n",
              "      <th>sessions</th>\n",
              "      <th>drives</th>\n",
              "      <th>total_sessions</th>\n",
              "      <th>n_days_after_onboarding</th>\n",
              "      <th>total_navigations_fav1</th>\n",
              "      <th>total_navigations_fav2</th>\n",
              "      <th>driven_km_drives</th>\n",
              "      <th>duration_minutes_drives</th>\n",
              "      <th>activity_days</th>\n",
              "      <th>driving_days</th>\n",
              "      <th>device_iPhone</th>\n",
              "    </tr>\n",
              "  </thead>\n",
              "  <tbody>\n",
              "    <tr>\n",
              "      <th>0</th>\n",
              "      <td>0</td>\n",
              "      <td>retained</td>\n",
              "      <td>283</td>\n",
              "      <td>226</td>\n",
              "      <td>296.748273</td>\n",
              "      <td>2276</td>\n",
              "      <td>208</td>\n",
              "      <td>0</td>\n",
              "      <td>2628.845068</td>\n",
              "      <td>1985.775061</td>\n",
              "      <td>28</td>\n",
              "      <td>19</td>\n",
              "      <td>False</td>\n",
              "    </tr>\n",
              "    <tr>\n",
              "      <th>1</th>\n",
              "      <td>1</td>\n",
              "      <td>retained</td>\n",
              "      <td>133</td>\n",
              "      <td>107</td>\n",
              "      <td>326.896596</td>\n",
              "      <td>1225</td>\n",
              "      <td>19</td>\n",
              "      <td>64</td>\n",
              "      <td>13715.920550</td>\n",
              "      <td>3160.472914</td>\n",
              "      <td>13</td>\n",
              "      <td>11</td>\n",
              "      <td>True</td>\n",
              "    </tr>\n",
              "    <tr>\n",
              "      <th>2</th>\n",
              "      <td>2</td>\n",
              "      <td>retained</td>\n",
              "      <td>114</td>\n",
              "      <td>95</td>\n",
              "      <td>135.522926</td>\n",
              "      <td>2651</td>\n",
              "      <td>0</td>\n",
              "      <td>0</td>\n",
              "      <td>3059.148818</td>\n",
              "      <td>1610.735904</td>\n",
              "      <td>14</td>\n",
              "      <td>8</td>\n",
              "      <td>False</td>\n",
              "    </tr>\n",
              "    <tr>\n",
              "      <th>3</th>\n",
              "      <td>3</td>\n",
              "      <td>retained</td>\n",
              "      <td>49</td>\n",
              "      <td>40</td>\n",
              "      <td>67.589221</td>\n",
              "      <td>15</td>\n",
              "      <td>322</td>\n",
              "      <td>7</td>\n",
              "      <td>913.591123</td>\n",
              "      <td>587.196542</td>\n",
              "      <td>7</td>\n",
              "      <td>3</td>\n",
              "      <td>True</td>\n",
              "    </tr>\n",
              "    <tr>\n",
              "      <th>4</th>\n",
              "      <td>4</td>\n",
              "      <td>retained</td>\n",
              "      <td>84</td>\n",
              "      <td>68</td>\n",
              "      <td>168.247020</td>\n",
              "      <td>1562</td>\n",
              "      <td>166</td>\n",
              "      <td>5</td>\n",
              "      <td>3950.202008</td>\n",
              "      <td>1219.555924</td>\n",
              "      <td>27</td>\n",
              "      <td>18</td>\n",
              "      <td>False</td>\n",
              "    </tr>\n",
              "  </tbody>\n",
              "</table>\n",
              "</div>\n",
              "    <div class=\"colab-df-buttons\">\n",
              "\n",
              "  <div class=\"colab-df-container\">\n",
              "    <button class=\"colab-df-convert\" onclick=\"convertToInteractive('df-04e9b3f4-2f3e-46bf-a62b-201b91319d7a')\"\n",
              "            title=\"Convert this dataframe to an interactive table.\"\n",
              "            style=\"display:none;\">\n",
              "\n",
              "  <svg xmlns=\"http://www.w3.org/2000/svg\" height=\"24px\" viewBox=\"0 -960 960 960\">\n",
              "    <path d=\"M120-120v-720h720v720H120Zm60-500h600v-160H180v160Zm220 220h160v-160H400v160Zm0 220h160v-160H400v160ZM180-400h160v-160H180v160Zm440 0h160v-160H620v160ZM180-180h160v-160H180v160Zm440 0h160v-160H620v160Z\"/>\n",
              "  </svg>\n",
              "    </button>\n",
              "\n",
              "  <style>\n",
              "    .colab-df-container {\n",
              "      display:flex;\n",
              "      gap: 12px;\n",
              "    }\n",
              "\n",
              "    .colab-df-convert {\n",
              "      background-color: #E8F0FE;\n",
              "      border: none;\n",
              "      border-radius: 50%;\n",
              "      cursor: pointer;\n",
              "      display: none;\n",
              "      fill: #1967D2;\n",
              "      height: 32px;\n",
              "      padding: 0 0 0 0;\n",
              "      width: 32px;\n",
              "    }\n",
              "\n",
              "    .colab-df-convert:hover {\n",
              "      background-color: #E2EBFA;\n",
              "      box-shadow: 0px 1px 2px rgba(60, 64, 67, 0.3), 0px 1px 3px 1px rgba(60, 64, 67, 0.15);\n",
              "      fill: #174EA6;\n",
              "    }\n",
              "\n",
              "    .colab-df-buttons div {\n",
              "      margin-bottom: 4px;\n",
              "    }\n",
              "\n",
              "    [theme=dark] .colab-df-convert {\n",
              "      background-color: #3B4455;\n",
              "      fill: #D2E3FC;\n",
              "    }\n",
              "\n",
              "    [theme=dark] .colab-df-convert:hover {\n",
              "      background-color: #434B5C;\n",
              "      box-shadow: 0px 1px 3px 1px rgba(0, 0, 0, 0.15);\n",
              "      filter: drop-shadow(0px 1px 2px rgba(0, 0, 0, 0.3));\n",
              "      fill: #FFFFFF;\n",
              "    }\n",
              "  </style>\n",
              "\n",
              "    <script>\n",
              "      const buttonEl =\n",
              "        document.querySelector('#df-04e9b3f4-2f3e-46bf-a62b-201b91319d7a button.colab-df-convert');\n",
              "      buttonEl.style.display =\n",
              "        google.colab.kernel.accessAllowed ? 'block' : 'none';\n",
              "\n",
              "      async function convertToInteractive(key) {\n",
              "        const element = document.querySelector('#df-04e9b3f4-2f3e-46bf-a62b-201b91319d7a');\n",
              "        const dataTable =\n",
              "          await google.colab.kernel.invokeFunction('convertToInteractive',\n",
              "                                                    [key], {});\n",
              "        if (!dataTable) return;\n",
              "\n",
              "        const docLinkHtml = 'Like what you see? Visit the ' +\n",
              "          '<a target=\"_blank\" href=https://colab.research.google.com/notebooks/data_table.ipynb>data table notebook</a>'\n",
              "          + ' to learn more about interactive tables.';\n",
              "        element.innerHTML = '';\n",
              "        dataTable['output_type'] = 'display_data';\n",
              "        await google.colab.output.renderOutput(dataTable, element);\n",
              "        const docLink = document.createElement('div');\n",
              "        docLink.innerHTML = docLinkHtml;\n",
              "        element.appendChild(docLink);\n",
              "      }\n",
              "    </script>\n",
              "  </div>\n",
              "\n",
              "\n",
              "<div id=\"df-ef13be73-2eaa-42ce-8b0b-7538ab4cc403\">\n",
              "  <button class=\"colab-df-quickchart\" onclick=\"quickchart('df-ef13be73-2eaa-42ce-8b0b-7538ab4cc403')\"\n",
              "            title=\"Suggest charts\"\n",
              "            style=\"display:none;\">\n",
              "\n",
              "<svg xmlns=\"http://www.w3.org/2000/svg\" height=\"24px\"viewBox=\"0 0 24 24\"\n",
              "     width=\"24px\">\n",
              "    <g>\n",
              "        <path d=\"M19 3H5c-1.1 0-2 .9-2 2v14c0 1.1.9 2 2 2h14c1.1 0 2-.9 2-2V5c0-1.1-.9-2-2-2zM9 17H7v-7h2v7zm4 0h-2V7h2v10zm4 0h-2v-4h2v4z\"/>\n",
              "    </g>\n",
              "</svg>\n",
              "  </button>\n",
              "\n",
              "<style>\n",
              "  .colab-df-quickchart {\n",
              "      --bg-color: #E8F0FE;\n",
              "      --fill-color: #1967D2;\n",
              "      --hover-bg-color: #E2EBFA;\n",
              "      --hover-fill-color: #174EA6;\n",
              "      --disabled-fill-color: #AAA;\n",
              "      --disabled-bg-color: #DDD;\n",
              "  }\n",
              "\n",
              "  [theme=dark] .colab-df-quickchart {\n",
              "      --bg-color: #3B4455;\n",
              "      --fill-color: #D2E3FC;\n",
              "      --hover-bg-color: #434B5C;\n",
              "      --hover-fill-color: #FFFFFF;\n",
              "      --disabled-bg-color: #3B4455;\n",
              "      --disabled-fill-color: #666;\n",
              "  }\n",
              "\n",
              "  .colab-df-quickchart {\n",
              "    background-color: var(--bg-color);\n",
              "    border: none;\n",
              "    border-radius: 50%;\n",
              "    cursor: pointer;\n",
              "    display: none;\n",
              "    fill: var(--fill-color);\n",
              "    height: 32px;\n",
              "    padding: 0;\n",
              "    width: 32px;\n",
              "  }\n",
              "\n",
              "  .colab-df-quickchart:hover {\n",
              "    background-color: var(--hover-bg-color);\n",
              "    box-shadow: 0 1px 2px rgba(60, 64, 67, 0.3), 0 1px 3px 1px rgba(60, 64, 67, 0.15);\n",
              "    fill: var(--button-hover-fill-color);\n",
              "  }\n",
              "\n",
              "  .colab-df-quickchart-complete:disabled,\n",
              "  .colab-df-quickchart-complete:disabled:hover {\n",
              "    background-color: var(--disabled-bg-color);\n",
              "    fill: var(--disabled-fill-color);\n",
              "    box-shadow: none;\n",
              "  }\n",
              "\n",
              "  .colab-df-spinner {\n",
              "    border: 2px solid var(--fill-color);\n",
              "    border-color: transparent;\n",
              "    border-bottom-color: var(--fill-color);\n",
              "    animation:\n",
              "      spin 1s steps(1) infinite;\n",
              "  }\n",
              "\n",
              "  @keyframes spin {\n",
              "    0% {\n",
              "      border-color: transparent;\n",
              "      border-bottom-color: var(--fill-color);\n",
              "      border-left-color: var(--fill-color);\n",
              "    }\n",
              "    20% {\n",
              "      border-color: transparent;\n",
              "      border-left-color: var(--fill-color);\n",
              "      border-top-color: var(--fill-color);\n",
              "    }\n",
              "    30% {\n",
              "      border-color: transparent;\n",
              "      border-left-color: var(--fill-color);\n",
              "      border-top-color: var(--fill-color);\n",
              "      border-right-color: var(--fill-color);\n",
              "    }\n",
              "    40% {\n",
              "      border-color: transparent;\n",
              "      border-right-color: var(--fill-color);\n",
              "      border-top-color: var(--fill-color);\n",
              "    }\n",
              "    60% {\n",
              "      border-color: transparent;\n",
              "      border-right-color: var(--fill-color);\n",
              "    }\n",
              "    80% {\n",
              "      border-color: transparent;\n",
              "      border-right-color: var(--fill-color);\n",
              "      border-bottom-color: var(--fill-color);\n",
              "    }\n",
              "    90% {\n",
              "      border-color: transparent;\n",
              "      border-bottom-color: var(--fill-color);\n",
              "    }\n",
              "  }\n",
              "</style>\n",
              "\n",
              "  <script>\n",
              "    async function quickchart(key) {\n",
              "      const quickchartButtonEl =\n",
              "        document.querySelector('#' + key + ' button');\n",
              "      quickchartButtonEl.disabled = true;  // To prevent multiple clicks.\n",
              "      quickchartButtonEl.classList.add('colab-df-spinner');\n",
              "      try {\n",
              "        const charts = await google.colab.kernel.invokeFunction(\n",
              "            'suggestCharts', [key], {});\n",
              "      } catch (error) {\n",
              "        console.error('Error during call to suggestCharts:', error);\n",
              "      }\n",
              "      quickchartButtonEl.classList.remove('colab-df-spinner');\n",
              "      quickchartButtonEl.classList.add('colab-df-quickchart-complete');\n",
              "    }\n",
              "    (() => {\n",
              "      let quickchartButtonEl =\n",
              "        document.querySelector('#df-ef13be73-2eaa-42ce-8b0b-7538ab4cc403 button');\n",
              "      quickchartButtonEl.style.display =\n",
              "        google.colab.kernel.accessAllowed ? 'block' : 'none';\n",
              "    })();\n",
              "  </script>\n",
              "</div>\n",
              "    </div>\n",
              "  </div>\n"
            ],
            "application/vnd.google.colaboratory.intrinsic+json": {
              "type": "dataframe",
              "variable_name": "data_encoded",
              "summary": "{\n  \"name\": \"data_encoded\",\n  \"rows\": 14299,\n  \"fields\": [\n    {\n      \"column\": \"ID\",\n      \"properties\": {\n        \"dtype\": \"number\",\n        \"std\": 4331,\n        \"min\": 0,\n        \"max\": 14998,\n        \"num_unique_values\": 14299,\n        \"samples\": [\n          4681,\n          11893,\n          1054\n        ],\n        \"semantic_type\": \"\",\n        \"description\": \"\"\n      }\n    },\n    {\n      \"column\": \"label\",\n      \"properties\": {\n        \"dtype\": \"category\",\n        \"num_unique_values\": 2,\n        \"samples\": [\n          \"churned\",\n          \"retained\"\n        ],\n        \"semantic_type\": \"\",\n        \"description\": \"\"\n      }\n    },\n    {\n      \"column\": \"sessions\",\n      \"properties\": {\n        \"dtype\": \"number\",\n        \"std\": 80,\n        \"min\": 0,\n        \"max\": 743,\n        \"num_unique_values\": 467,\n        \"samples\": [\n          142,\n          17\n        ],\n        \"semantic_type\": \"\",\n        \"description\": \"\"\n      }\n    },\n    {\n      \"column\": \"drives\",\n      \"properties\": {\n        \"dtype\": \"number\",\n        \"std\": 65,\n        \"min\": 0,\n        \"max\": 596,\n        \"num_unique_values\": 398,\n        \"samples\": [\n          150,\n          409\n        ],\n        \"semantic_type\": \"\",\n        \"description\": \"\"\n      }\n    },\n    {\n      \"column\": \"total_sessions\",\n      \"properties\": {\n        \"dtype\": \"number\",\n        \"std\": 136.18976433283126,\n        \"min\": 0.2202109438,\n        \"max\": 1216.154633,\n        \"num_unique_values\": 14299,\n        \"samples\": [\n          288.6463117,\n          49.7560148\n        ],\n        \"semantic_type\": \"\",\n        \"description\": \"\"\n      }\n    },\n    {\n      \"column\": \"n_days_after_onboarding\",\n      \"properties\": {\n        \"dtype\": \"number\",\n        \"std\": 1008,\n        \"min\": 4,\n        \"max\": 3500,\n        \"num_unique_values\": 3432,\n        \"samples\": [\n          1692,\n          2161\n        ],\n        \"semantic_type\": \"\",\n        \"description\": \"\"\n      }\n    },\n    {\n      \"column\": \"total_navigations_fav1\",\n      \"properties\": {\n        \"dtype\": \"number\",\n        \"std\": 147,\n        \"min\": 0,\n        \"max\": 1236,\n        \"num_unique_values\": 724,\n        \"samples\": [\n          248,\n          337\n        ],\n        \"semantic_type\": \"\",\n        \"description\": \"\"\n      }\n    },\n    {\n      \"column\": \"total_navigations_fav2\",\n      \"properties\": {\n        \"dtype\": \"number\",\n        \"std\": 45,\n        \"min\": 0,\n        \"max\": 415,\n        \"num_unique_values\": 282,\n        \"samples\": [\n          166,\n          25\n        ],\n        \"semantic_type\": \"\",\n        \"description\": \"\"\n      }\n    },\n    {\n      \"column\": \"driven_km_drives\",\n      \"properties\": {\n        \"dtype\": \"number\",\n        \"std\": 2504.977970380178,\n        \"min\": 60.44125046,\n        \"max\": 21183.40189,\n        \"num_unique_values\": 14299,\n        \"samples\": [\n          5060.511412,\n          4814.66163\n        ],\n        \"semantic_type\": \"\",\n        \"description\": \"\"\n      }\n    },\n    {\n      \"column\": \"duration_minutes_drives\",\n      \"properties\": {\n        \"dtype\": \"number\",\n        \"std\": 1448.005047476719,\n        \"min\": 18.28208247,\n        \"max\": 15851.72716,\n        \"num_unique_values\": 14299,\n        \"samples\": [\n          3144.606589,\n          1781.614513\n        ],\n        \"semantic_type\": \"\",\n        \"description\": \"\"\n      }\n    },\n    {\n      \"column\": \"activity_days\",\n      \"properties\": {\n        \"dtype\": \"number\",\n        \"std\": 9,\n        \"min\": 0,\n        \"max\": 31,\n        \"num_unique_values\": 32,\n        \"samples\": [\n          3,\n          21\n        ],\n        \"semantic_type\": \"\",\n        \"description\": \"\"\n      }\n    },\n    {\n      \"column\": \"driving_days\",\n      \"properties\": {\n        \"dtype\": \"number\",\n        \"std\": 7,\n        \"min\": 0,\n        \"max\": 30,\n        \"num_unique_values\": 31,\n        \"samples\": [\n          27,\n          16\n        ],\n        \"semantic_type\": \"\",\n        \"description\": \"\"\n      }\n    },\n    {\n      \"column\": \"device_iPhone\",\n      \"properties\": {\n        \"dtype\": \"boolean\",\n        \"num_unique_values\": 2,\n        \"samples\": [\n          true,\n          false\n        ],\n        \"semantic_type\": \"\",\n        \"description\": \"\"\n      }\n    }\n  ]\n}"
            }
          },
          "metadata": {},
          "execution_count": 27
        }
      ]
    },
    {
      "cell_type": "code",
      "source": [
        "# Проверим распределение некоторых числовых признаков\n",
        "plt.figure(figsize=(10, 6))\n",
        "data_encoded[['sessions', 'drives', 'total_sessions', 'driven_km_drives']].hist(bins=30, layout=(2, 2), figsize=(10, 8))\n",
        "plt.tight_layout()\n",
        "plt.show()\n"
      ],
      "metadata": {
        "colab": {
          "base_uri": "https://localhost:8080/",
          "height": 825
        },
        "id": "_tJsm7l0gApV",
        "outputId": "646ae5f9-01a0-4e4f-d1b0-6bfbb8629760"
      },
      "execution_count": null,
      "outputs": [
        {
          "output_type": "display_data",
          "data": {
            "text/plain": [
              "<Figure size 1000x600 with 0 Axes>"
            ]
          },
          "metadata": {}
        },
        {
          "output_type": "display_data",
          "data": {
            "text/plain": [
              "<Figure size 1000x800 with 4 Axes>"
            ],
            "image/png": "[encoded data removed]"
          },
          "metadata": {}
        }
      ]
    },
    {
      "cell_type": "markdown",
      "source": [
        "Гистограммы числовых признаков показывают, что большинство из них имеют сильно скошенное распределение. Это указывает на необходимость нормализации данных перед применением моделей, чувствительных к масштабу признаков, таких как KNN."
      ],
      "metadata": {
        "id": "WlmH4L4FgH_2"
      }
    },
    {
      "cell_type": "code",
      "source": [
        "from sklearn.preprocessing import StandardScaler\n",
        "\n",
        "# Создание копии данных для нормализации\n",
        "data_for_scaling = data_encoded.copy()\n",
        "\n",
        "# Определение числовых признаков для нормализации (исключая ID и label)\n",
        "numeric_features = [\n",
        "    'sessions', 'drives', 'total_sessions', 'n_days_after_onboarding',\n",
        "    'total_navigations_fav1', 'total_navigations_fav2', 'driven_km_drives',\n",
        "    'duration_minutes_drives', 'activity_days', 'driving_days'\n",
        "]\n",
        "\n",
        "# Применение StandardScaler\n",
        "scaler = StandardScaler()\n",
        "data_for_scaling[numeric_features] = scaler.fit_transform(data_for_scaling[numeric_features])\n",
        "\n",
        "# Просмотр первых строк нормализованного датасета\n",
        "data_for_scaling.head()\n"
      ],
      "metadata": {
        "colab": {
          "base_uri": "https://localhost:8080/",
          "height": 226
        },
        "id": "xFTZDP_1gK5N",
        "outputId": "4495de44-c1f1-4b45-afe1-7ce4cd86a078"
      },
      "execution_count": null,
      "outputs": [
        {
          "output_type": "execute_result",
          "data": {
            "text/plain": [
              "   ID     label  sessions    drives  total_sessions  n_days_after_onboarding  \\\n",
              "0   0  retained  2.506713  2.407221        0.787171                 0.519693   \n",
              "1   1  retained  0.648753  0.602687        1.008549                -0.522316   \n",
              "2   2  retained  0.413411  0.420717       -0.396699                 0.891485   \n",
              "3   3  retained -0.391705 -0.413311       -0.895533                -1.721964   \n",
              "4   4  retained  0.041819  0.011285       -0.156408                -0.188199   \n",
              "\n",
              "   total_navigations_fav1  total_navigations_fav2  driven_km_drives  \\\n",
              "0                0.583939               -0.653556         -0.565117   \n",
              "1               -0.695610                0.757712          3.861055   \n",
              "2               -0.824242               -0.653556         -0.393332   \n",
              "3                1.355731               -0.499198         -1.249879   \n",
              "4                0.299595               -0.543300         -0.037606   \n",
              "\n",
              "   duration_minutes_drives  activity_days  driving_days  device_iPhone  \n",
              "0                 0.083963       1.381506      0.870290          False  \n",
              "1                 0.895244      -0.282245     -0.150957           True  \n",
              "2                -0.175050      -0.171328     -0.533924          False  \n",
              "3                -0.881936      -0.947745     -1.172204           True  \n",
              "4                -0.445210       1.270590      0.742634          False  "
            ],
            "text/html": [
              "\n",
              "  <div id=\"df-c18516a6-355c-4fba-8ecb-aad7d97277a6\" class=\"colab-df-container\">\n",
              "    <div>\n",
              "<style scoped>\n",
              "    .dataframe tbody tr th:only-of-type {\n",
              "        vertical-align: middle;\n",
              "    }\n",
              "\n",
              "    .dataframe tbody tr th {\n",
              "        vertical-align: top;\n",
              "    }\n",
              "\n",
              "    .dataframe thead th {\n",
              "        text-align: right;\n",
              "    }\n",
              "</style>\n",
              "<table border=\"1\" class=\"dataframe\">\n",
              "  <thead>\n",
              "    <tr style=\"text-align: right;\">\n",
              "      <th></th>\n",
              "      <th>ID</th>\n",
              "      <th>label</th>\n",
              "      <th>sessions</th>\n",
              "      <th>drives</th>\n",
              "      <th>total_sessions</th>\n",
              "      <th>n_days_after_onboarding</th>\n",
              "      <th>total_navigations_fav1</th>\n",
              "      <th>total_navigations_fav2</th>\n",
              "      <th>driven_km_drives</th>\n",
              "      <th>duration_minutes_drives</th>\n",
              "      <th>activity_days</th>\n",
              "      <th>driving_days</th>\n",
              "      <th>device_iPhone</th>\n",
              "    </tr>\n",
              "  </thead>\n",
              "  <tbody>\n",
              "    <tr>\n",
              "      <th>0</th>\n",
              "      <td>0</td>\n",
              "      <td>retained</td>\n",
              "      <td>2.506713</td>\n",
              "      <td>2.407221</td>\n",
              "      <td>0.787171</td>\n",
              "      <td>0.519693</td>\n",
              "      <td>0.583939</td>\n",
              "      <td>-0.653556</td>\n",
              "      <td>-0.565117</td>\n",
              "      <td>0.083963</td>\n",
              "      <td>1.381506</td>\n",
              "      <td>0.870290</td>\n",
              "      <td>False</td>\n",
              "    </tr>\n",
              "    <tr>\n",
              "      <th>1</th>\n",
              "      <td>1</td>\n",
              "      <td>retained</td>\n",
              "      <td>0.648753</td>\n",
              "      <td>0.602687</td>\n",
              "      <td>1.008549</td>\n",
              "      <td>-0.522316</td>\n",
              "      <td>-0.695610</td>\n",
              "      <td>0.757712</td>\n",
              "      <td>3.861055</td>\n",
              "      <td>0.895244</td>\n",
              "      <td>-0.282245</td>\n",
              "      <td>-0.150957</td>\n",
              "      <td>True</td>\n",
              "    </tr>\n",
              "    <tr>\n",
              "      <th>2</th>\n",
              "      <td>2</td>\n",
              "      <td>retained</td>\n",
              "      <td>0.413411</td>\n",
              "      <td>0.420717</td>\n",
              "      <td>-0.396699</td>\n",
              "      <td>0.891485</td>\n",
              "      <td>-0.824242</td>\n",
              "      <td>-0.653556</td>\n",
              "      <td>-0.393332</td>\n",
              "      <td>-0.175050</td>\n",
              "      <td>-0.171328</td>\n",
              "      <td>-0.533924</td>\n",
              "      <td>False</td>\n",
              "    </tr>\n",
              "    <tr>\n",
              "      <th>3</th>\n",
              "      <td>3</td>\n",
              "      <td>retained</td>\n",
              "      <td>-0.391705</td>\n",
              "      <td>-0.413311</td>\n",
              "      <td>-0.895533</td>\n",
              "      <td>-1.721964</td>\n",
              "      <td>1.355731</td>\n",
              "      <td>-0.499198</td>\n",
              "      <td>-1.249879</td>\n",
              "      <td>-0.881936</td>\n",
              "      <td>-0.947745</td>\n",
              "      <td>-1.172204</td>\n",
              "      <td>True</td>\n",
              "    </tr>\n",
              "    <tr>\n",
              "      <th>4</th>\n",
              "      <td>4</td>\n",
              "      <td>retained</td>\n",
              "      <td>0.041819</td>\n",
              "      <td>0.011285</td>\n",
              "      <td>-0.156408</td>\n",
              "      <td>-0.188199</td>\n",
              "      <td>0.299595</td>\n",
              "      <td>-0.543300</td>\n",
              "      <td>-0.037606</td>\n",
              "      <td>-0.445210</td>\n",
              "      <td>1.270590</td>\n",
              "      <td>0.742634</td>\n",
              "      <td>False</td>\n",
              "    </tr>\n",
              "  </tbody>\n",
              "</table>\n",
              "</div>\n",
              "    <div class=\"colab-df-buttons\">\n",
              "\n",
              "  <div class=\"colab-df-container\">\n",
              "    <button class=\"colab-df-convert\" onclick=\"convertToInteractive('df-c18516a6-355c-4fba-8ecb-aad7d97277a6')\"\n",
              "            title=\"Convert this dataframe to an interactive table.\"\n",
              "            style=\"display:none;\">\n",
              "\n",
              "  <svg xmlns=\"http://www.w3.org/2000/svg\" height=\"24px\" viewBox=\"0 -960 960 960\">\n",
              "    <path d=\"M120-120v-720h720v720H120Zm60-500h600v-160H180v160Zm220 220h160v-160H400v160Zm0 220h160v-160H400v160ZM180-400h160v-160H180v160Zm440 0h160v-160H620v160ZM180-180h160v-160H180v160Zm440 0h160v-160H620v160Z\"/>\n",
              "  </svg>\n",
              "    </button>\n",
              "\n",
              "  <style>\n",
              "    .colab-df-container {\n",
              "      display:flex;\n",
              "      gap: 12px;\n",
              "    }\n",
              "\n",
              "    .colab-df-convert {\n",
              "      background-color: #E8F0FE;\n",
              "      border: none;\n",
              "      border-radius: 50%;\n",
              "      cursor: pointer;\n",
              "      display: none;\n",
              "      fill: #1967D2;\n",
              "      height: 32px;\n",
              "      padding: 0 0 0 0;\n",
              "      width: 32px;\n",
              "    }\n",
              "\n",
              "    .colab-df-convert:hover {\n",
              "      background-color: #E2EBFA;\n",
              "      box-shadow: 0px 1px 2px rgba(60, 64, 67, 0.3), 0px 1px 3px 1px rgba(60, 64, 67, 0.15);\n",
              "      fill: #174EA6;\n",
              "    }\n",
              "\n",
              "    .colab-df-buttons div {\n",
              "      margin-bottom: 4px;\n",
              "    }\n",
              "\n",
              "    [theme=dark] .colab-df-convert {\n",
              "      background-color: #3B4455;\n",
              "      fill: #D2E3FC;\n",
              "    }\n",
              "\n",
              "    [theme=dark] .colab-df-convert:hover {\n",
              "      background-color: #434B5C;\n",
              "      box-shadow: 0px 1px 3px 1px rgba(0, 0, 0, 0.15);\n",
              "      filter: drop-shadow(0px 1px 2px rgba(0, 0, 0, 0.3));\n",
              "      fill: #FFFFFF;\n",
              "    }\n",
              "  </style>\n",
              "\n",
              "    <script>\n",
              "      const buttonEl =\n",
              "        document.querySelector('#df-c18516a6-355c-4fba-8ecb-aad7d97277a6 button.colab-df-convert');\n",
              "      buttonEl.style.display =\n",
              "        google.colab.kernel.accessAllowed ? 'block' : 'none';\n",
              "\n",
              "      async function convertToInteractive(key) {\n",
              "        const element = document.querySelector('#df-c18516a6-355c-4fba-8ecb-aad7d97277a6');\n",
              "        const dataTable =\n",
              "          await google.colab.kernel.invokeFunction('convertToInteractive',\n",
              "                                                    [key], {});\n",
              "        if (!dataTable) return;\n",
              "\n",
              "        const docLinkHtml = 'Like what you see? Visit the ' +\n",
              "          '<a target=\"_blank\" href=https://colab.research.google.com/notebooks/data_table.ipynb>data table notebook</a>'\n",
              "          + ' to learn more about interactive tables.';\n",
              "        element.innerHTML = '';\n",
              "        dataTable['output_type'] = 'display_data';\n",
              "        await google.colab.output.renderOutput(dataTable, element);\n",
              "        const docLink = document.createElement('div');\n",
              "        docLink.innerHTML = docLinkHtml;\n",
              "        element.appendChild(docLink);\n",
              "      }\n",
              "    </script>\n",
              "  </div>\n",
              "\n",
              "\n",
              "<div id=\"df-57b0afed-dedb-4648-bf7d-70baae81f45e\">\n",
              "  <button class=\"colab-df-quickchart\" onclick=\"quickchart('df-57b0afed-dedb-4648-bf7d-70baae81f45e')\"\n",
              "            title=\"Suggest charts\"\n",
              "            style=\"display:none;\">\n",
              "\n",
              "<svg xmlns=\"http://www.w3.org/2000/svg\" height=\"24px\"viewBox=\"0 0 24 24\"\n",
              "     width=\"24px\">\n",
              "    <g>\n",
              "        <path d=\"M19 3H5c-1.1 0-2 .9-2 2v14c0 1.1.9 2 2 2h14c1.1 0 2-.9 2-2V5c0-1.1-.9-2-2-2zM9 17H7v-7h2v7zm4 0h-2V7h2v10zm4 0h-2v-4h2v4z\"/>\n",
              "    </g>\n",
              "</svg>\n",
              "  </button>\n",
              "\n",
              "<style>\n",
              "  .colab-df-quickchart {\n",
              "      --bg-color: #E8F0FE;\n",
              "      --fill-color: #1967D2;\n",
              "      --hover-bg-color: #E2EBFA;\n",
              "      --hover-fill-color: #174EA6;\n",
              "      --disabled-fill-color: #AAA;\n",
              "      --disabled-bg-color: #DDD;\n",
              "  }\n",
              "\n",
              "  [theme=dark] .colab-df-quickchart {\n",
              "      --bg-color: #3B4455;\n",
              "      --fill-color: #D2E3FC;\n",
              "      --hover-bg-color: #434B5C;\n",
              "      --hover-fill-color: #FFFFFF;\n",
              "      --disabled-bg-color: #3B4455;\n",
              "      --disabled-fill-color: #666;\n",
              "  }\n",
              "\n",
              "  .colab-df-quickchart {\n",
              "    background-color: var(--bg-color);\n",
              "    border: none;\n",
              "    border-radius: 50%;\n",
              "    cursor: pointer;\n",
              "    display: none;\n",
              "    fill: var(--fill-color);\n",
              "    height: 32px;\n",
              "    padding: 0;\n",
              "    width: 32px;\n",
              "  }\n",
              "\n",
              "  .colab-df-quickchart:hover {\n",
              "    background-color: var(--hover-bg-color);\n",
              "    box-shadow: 0 1px 2px rgba(60, 64, 67, 0.3), 0 1px 3px 1px rgba(60, 64, 67, 0.15);\n",
              "    fill: var(--button-hover-fill-color);\n",
              "  }\n",
              "\n",
              "  .colab-df-quickchart-complete:disabled,\n",
              "  .colab-df-quickchart-complete:disabled:hover {\n",
              "    background-color: var(--disabled-bg-color);\n",
              "    fill: var(--disabled-fill-color);\n",
              "    box-shadow: none;\n",
              "  }\n",
              "\n",
              "  .colab-df-spinner {\n",
              "    border: 2px solid var(--fill-color);\n",
              "    border-color: transparent;\n",
              "    border-bottom-color: var(--fill-color);\n",
              "    animation:\n",
              "      spin 1s steps(1) infinite;\n",
              "  }\n",
              "\n",
              "  @keyframes spin {\n",
              "    0% {\n",
              "      border-color: transparent;\n",
              "      border-bottom-color: var(--fill-color);\n",
              "      border-left-color: var(--fill-color);\n",
              "    }\n",
              "    20% {\n",
              "      border-color: transparent;\n",
              "      border-left-color: var(--fill-color);\n",
              "      border-top-color: var(--fill-color);\n",
              "    }\n",
              "    30% {\n",
              "      border-color: transparent;\n",
              "      border-left-color: var(--fill-color);\n",
              "      border-top-color: var(--fill-color);\n",
              "      border-right-color: var(--fill-color);\n",
              "    }\n",
              "    40% {\n",
              "      border-color: transparent;\n",
              "      border-right-color: var(--fill-color);\n",
              "      border-top-color: var(--fill-color);\n",
              "    }\n",
              "    60% {\n",
              "      border-color: transparent;\n",
              "      border-right-color: var(--fill-color);\n",
              "    }\n",
              "    80% {\n",
              "      border-color: transparent;\n",
              "      border-right-color: var(--fill-color);\n",
              "      border-bottom-color: var(--fill-color);\n",
              "    }\n",
              "    90% {\n",
              "      border-color: transparent;\n",
              "      border-bottom-color: var(--fill-color);\n",
              "    }\n",
              "  }\n",
              "</style>\n",
              "\n",
              "  <script>\n",
              "    async function quickchart(key) {\n",
              "      const quickchartButtonEl =\n",
              "        document.querySelector('#' + key + ' button');\n",
              "      quickchartButtonEl.disabled = true;  // To prevent multiple clicks.\n",
              "      quickchartButtonEl.classList.add('colab-df-spinner');\n",
              "      try {\n",
              "        const charts = await google.colab.kernel.invokeFunction(\n",
              "            'suggestCharts', [key], {});\n",
              "      } catch (error) {\n",
              "        console.error('Error during call to suggestCharts:', error);\n",
              "      }\n",
              "      quickchartButtonEl.classList.remove('colab-df-spinner');\n",
              "      quickchartButtonEl.classList.add('colab-df-quickchart-complete');\n",
              "    }\n",
              "    (() => {\n",
              "      let quickchartButtonEl =\n",
              "        document.querySelector('#df-57b0afed-dedb-4648-bf7d-70baae81f45e button');\n",
              "      quickchartButtonEl.style.display =\n",
              "        google.colab.kernel.accessAllowed ? 'block' : 'none';\n",
              "    })();\n",
              "  </script>\n",
              "</div>\n",
              "    </div>\n",
              "  </div>\n"
            ],
            "application/vnd.google.colaboratory.intrinsic+json": {
              "type": "dataframe",
              "variable_name": "data_for_scaling",
              "summary": "{\n  \"name\": \"data_for_scaling\",\n  \"rows\": 14299,\n  \"fields\": [\n    {\n      \"column\": \"ID\",\n      \"properties\": {\n        \"dtype\": \"number\",\n        \"std\": 4331,\n        \"min\": 0,\n        \"max\": 14998,\n        \"num_unique_values\": 14299,\n        \"samples\": [\n          4681,\n          11893,\n          1054\n        ],\n        \"semantic_type\": \"\",\n        \"description\": \"\"\n      }\n    },\n    {\n      \"column\": \"label\",\n      \"properties\": {\n        \"dtype\": \"category\",\n        \"num_unique_values\": 2,\n        \"samples\": [\n          \"churned\",\n          \"retained\"\n        ],\n        \"semantic_type\": \"\",\n        \"description\": \"\"\n      }\n    },\n    {\n      \"column\": \"sessions\",\n      \"properties\": {\n        \"dtype\": \"number\",\n        \"std\": 1.0000349693144366,\n        \"min\": -0.9986392485273438,\n        \"max\": 8.204459327785518,\n        \"num_unique_values\": 467,\n        \"samples\": [\n          0.760230196743755,\n          -0.7880703712765784\n        ],\n        \"semantic_type\": \"\",\n        \"description\": \"\"\n      }\n    },\n    {\n      \"column\": \"drives\",\n      \"properties\": {\n        \"dtype\": \"number\",\n        \"std\": 1.0000349693144206,\n        \"min\": -1.0198776718455376,\n        \"max\": 8.017958363339076,\n        \"num_unique_values\": 398,\n        \"samples\": [\n          1.2547454913720668,\n          5.182261486527797\n        ],\n        \"semantic_type\": \"\",\n        \"description\": \"\"\n      }\n    },\n    {\n      \"column\": \"total_sessions\",\n      \"properties\": {\n        \"dtype\": \"number\",\n        \"std\": 1.0000349693144377,\n        \"min\": -1.390220617114352,\n        \"max\": 7.538328076733449,\n        \"num_unique_values\": 14299,\n        \"samples\": [\n          0.7276785380255766,\n          -1.0264815627736952\n        ],\n        \"semantic_type\": \"\",\n        \"description\": \"\"\n      }\n    },\n    {\n      \"column\": \"n_days_after_onboarding\",\n      \"properties\": {\n        \"dtype\": \"number\",\n        \"std\": 1.0000349693144355,\n        \"min\": -1.732870324647235,\n        \"max\": 1.733222277658009,\n        \"num_unique_values\": 3432,\n        \"samples\": [\n          -0.05931073863715154,\n          0.4056770847270245\n        ],\n        \"semantic_type\": \"\",\n        \"description\": \"\"\n      }\n    },\n    {\n      \"column\": \"total_navigations_fav1\",\n      \"properties\": {\n        \"dtype\": \"number\",\n        \"std\": 1.000034969314461,\n        \"min\": -0.824242275482458,\n        \"max\": 7.543603731760404,\n        \"num_unique_values\": 724,\n        \"samples\": [\n          0.8547430075242005,\n          1.4572820808612674\n        ],\n        \"semantic_type\": \"\",\n        \"description\": \"\"\n      }\n    },\n    {\n      \"column\": \"total_navigations_fav2\",\n      \"properties\": {\n        \"dtype\": \"number\",\n        \"std\": 1.0000349693144288,\n        \"min\": -0.6535556970421866,\n        \"max\": 8.497632035043816,\n        \"num_unique_values\": 282,\n        \"samples\": [\n          3.0069193957922145,\n          -0.10227932763941536\n        ],\n        \"semantic_type\": \"\",\n        \"description\": \"\"\n      }\n    },\n    {\n      \"column\": \"driven_km_drives\",\n      \"properties\": {\n        \"dtype\": \"number\",\n        \"std\": 1.0000349693144408,\n        \"min\": -1.5904729096087513,\n        \"max\": 6.842215738661705,\n        \"num_unique_values\": 14299,\n        \"samples\": [\n          0.40565043745877416,\n          0.3075025167562946\n        ],\n        \"semantic_type\": \"\",\n        \"description\": \"\"\n      }\n    },\n    {\n      \"column\": \"duration_minutes_drives\",\n      \"properties\": {\n        \"dtype\": \"number\",\n        \"std\": 1.0000349693144388,\n        \"min\": -1.2748451846202544,\n        \"max\": 9.660198715842489,\n        \"num_unique_values\": 14299,\n        \"samples\": [\n          0.8842866757298198,\n          -0.05703582951538227\n        ],\n        \"semantic_type\": \"\",\n        \"description\": \"\"\n      }\n    },\n    {\n      \"column\": \"activity_days\",\n      \"properties\": {\n        \"dtype\": \"number\",\n        \"std\": 1.0000349693144412,\n        \"min\": -1.7241620330626508,\n        \"max\": 1.7142563993769533,\n        \"num_unique_values\": 32,\n        \"samples\": [\n          -1.3914118621813987,\n          0.6050891631061134\n        ],\n        \"semantic_type\": \"\",\n        \"description\": \"\"\n      }\n    },\n    {\n      \"column\": \"driving_days\",\n      \"properties\": {\n        \"dtype\": \"number\",\n        \"std\": 1.000034969314432,\n        \"min\": -1.555171369373541,\n        \"max\": 2.27450441519441,\n        \"num_unique_values\": 31,\n        \"samples\": [\n          1.8915368367376146,\n          0.48732238239603276\n        ],\n        \"semantic_type\": \"\",\n        \"description\": \"\"\n      }\n    },\n    {\n      \"column\": \"device_iPhone\",\n      \"properties\": {\n        \"dtype\": \"boolean\",\n        \"num_unique_values\": 2,\n        \"samples\": [\n          true,\n          false\n        ],\n        \"semantic_type\": \"\",\n        \"description\": \"\"\n      }\n    }\n  ]\n}"
            }
          },
          "metadata": {},
          "execution_count": 29
        }
      ]
    },
    {
      "cell_type": "markdown",
      "source": [
        "Числовые признаки были стандартизированы с использованием StandardScaler, что привело их к распределению со средним значением 0 и стандартным отклонением 1. Это позволит улучшить производительность моделей, таких как KNN."
      ],
      "metadata": {
        "id": "hSY46HAPgTH_"
      }
    },
    {
      "cell_type": "markdown",
      "source": [
        "Теперь можно перейти к разбиению данных на обучающую и тестовую выборки, чтобы затем обучить классификатор"
      ],
      "metadata": {
        "id": "28YEmJM-gVAX"
      }
    },
    {
      "cell_type": "code",
      "source": [
        "from sklearn.model_selection import train_test_split\n",
        "\n",
        "# Разделение данных на признаки (X) и целевую переменную (y)\n",
        "X = data_for_scaling.drop(['ID', 'label'], axis=1)\n",
        "y = data_for_scaling['label']\n",
        "\n",
        "# Разбиение на обучающую и тестовую выборки (80% на обучение, 20% на тест)\n",
        "X_train, X_test, y_train, y_test = train_test_split(X, y, test_size=0.2, random_state=42, stratify=y)\n",
        "\n",
        "# Проверка размеров выборок\n",
        "split_shapes = (X_train.shape, X_test.shape, y_train.shape, y_test.shape)\n",
        "split_shapes\n"
      ],
      "metadata": {
        "colab": {
          "base_uri": "https://localhost:8080/"
        },
        "id": "AxTHGlWXgW0v",
        "outputId": "091d88f7-4d6a-4d9b-a3d9-818b9c81f89d"
      },
      "execution_count": null,
      "outputs": [
        {
          "output_type": "execute_result",
          "data": {
            "text/plain": [
              "((11439, 11), (2860, 11), (11439,), (2860,))"
            ]
          },
          "metadata": {},
          "execution_count": 30
        }
      ]
    },
    {
      "cell_type": "code",
      "source": [
        "from sklearn.neighbors import KNeighborsClassifier\n",
        "from sklearn.metrics import accuracy_score\n",
        "import numpy as np\n",
        "\n",
        "# Обучение KNN-классификатора с разными значениями k\n",
        "k_values = range(1, 21)\n",
        "train_accuracies = []\n",
        "test_accuracies = []\n",
        "\n",
        "# Проходим по разным значениям k и сохраняем точность\n",
        "for k in k_values:\n",
        "    knn = KNeighborsClassifier(n_neighbors=k)\n",
        "    knn.fit(X_train, y_train)\n",
        "\n",
        "    # Оценка точности на обучающей и тестовой выборках\n",
        "    train_accuracy = accuracy_score(y_train, knn.predict(X_train))\n",
        "    test_accuracy = accuracy_score(y_test, knn.predict(X_test))\n",
        "\n",
        "    train_accuracies.append(train_accuracy)\n",
        "    test_accuracies.append(test_accuracy)\n",
        "\n",
        "# Выводим результаты на график для анализа\n",
        "plt.figure(figsize=(10, 6))\n",
        "plt.plot(k_values, train_accuracies, label='Train Accuracy', marker='o')\n",
        "plt.plot(k_values, test_accuracies, label='Test Accuracy', marker='o')\n",
        "plt.title('KNN: Точность на обучающей и тестовой выборках в зависимости от k')\n",
        "plt.xlabel('Количество ближайших соседей (k)')\n",
        "plt.ylabel('Точность')\n",
        "plt.legend()\n",
        "plt.grid(True)\n",
        "plt.show()\n"
      ],
      "metadata": {
        "colab": {
          "base_uri": "https://localhost:8080/",
          "height": 564
        },
        "id": "yGXHUCcpgah-",
        "outputId": "09913dd5-338e-4157-89e1-f4758b460523"
      },
      "execution_count": null,
      "outputs": [
        {
          "output_type": "display_data",
          "data": {
            "text/plain": [
              "<Figure size 1000x600 with 1 Axes>"
            ],
            "image/png": "[encoded data removed]"
          },
          "metadata": {}
        }
      ]
    },
    {
      "cell_type": "markdown",
      "source": [
        "На графике отображена точность модели K-Nearest Neighbors (KNN) на обучающей и тестовой выборках в зависимости от значения гиперпараметра\n",
        "𝑘 — количества ближайших соседей. Из графика можно выбрать оптимальное значение 𝑘, при котором точность на тестовой выборке максимальна, а переобучение минимально"
      ],
      "metadata": {
        "id": "lTdpYMRjgsFM"
      }
    },
    {
      "cell_type": "code",
      "source": [
        "# Определение оптимального значения k (максимальная точность на тестовой выборке)\n",
        "optimal_k = k_values[np.argmax(test_accuracies)]\n",
        "optimal_accuracy = max(test_accuracies)\n",
        "\n",
        "optimal_k, optimal_accuracy\n"
      ],
      "metadata": {
        "colab": {
          "base_uri": "https://localhost:8080/"
        },
        "id": "1_CjwjWzg4Eh",
        "outputId": "24f126f4-d006-4991-a664-19c843e3d5da"
      },
      "execution_count": null,
      "outputs": [
        {
          "output_type": "execute_result",
          "data": {
            "text/plain": [
              "(19, 0.8213286713286714)"
            ]
          },
          "metadata": {},
          "execution_count": 32
        }
      ]
    },
    {
      "cell_type": "markdown",
      "source": [
        "Оптимальное значение для количества ближайших соседей 𝑘 составляет 19, при котором точность на тестовой выборке достигает примерно 82.13%."
      ],
      "metadata": {
        "id": "vHRSqjbpg8Rc"
      }
    },
    {
      "cell_type": "code",
      "source": [
        "# Обучение KNN с оптимальным значением k=19\n",
        "knn_optimal = KNeighborsClassifier(n_neighbors=optimal_k)\n",
        "knn_optimal.fit(X_train, y_train)\n",
        "\n",
        "# Оценка точности на обучающей и тестовой выборках\n",
        "train_accuracy_optimal = accuracy_score(y_train, knn_optimal.predict(X_train))\n",
        "test_accuracy_optimal = accuracy_score(y_test, knn_optimal.predict(X_test))\n",
        "\n",
        "# Вычисление ошибок\n",
        "train_error = 1 - train_accuracy_optimal\n",
        "test_error = 1 - test_accuracy_optimal\n",
        "\n",
        "train_accuracy_optimal, test_accuracy_optimal, train_error, test_error\n"
      ],
      "metadata": {
        "colab": {
          "base_uri": "https://localhost:8080/"
        },
        "id": "TjQb1s3Ng_kW",
        "outputId": "34a719ba-1927-4b63-abdb-9f3da4283ba1"
      },
      "execution_count": null,
      "outputs": [
        {
          "output_type": "execute_result",
          "data": {
            "text/plain": [
              "(0.8290060319958038,\n",
              " 0.8213286713286714,\n",
              " 0.1709939680041962,\n",
              " 0.17867132867132862)"
            ]
          },
          "metadata": {},
          "execution_count": 33
        }
      ]
    },
    {
      "cell_type": "markdown",
      "source": [
        "С моделью KNN, обученной с оптимальным значением 𝑘 = 19 результаты следующие:\n",
        "\n",
        "* Точность на обучающей выборке: 82.90%\n",
        "* Точность на тестовой выборке: 82.13%\n",
        "* Ошибка на обучающей выборке: 17.10%\n",
        "* Ошибка на тестовой выборке: 17.87%"
      ],
      "metadata": {
        "id": "aRvOgtX5hFje"
      }
    },
    {
      "cell_type": "code",
      "source": [
        "# Проверка распределения классов в целевой переменной 'label'\n",
        "class_distribution = y_train.value_counts(normalize=True)\n",
        "\n",
        "# Визуализация распределения классов\n",
        "plt.figure(figsize=(6, 4))\n",
        "sns.barplot(x=class_distribution.index, y=class_distribution.values)\n",
        "plt.title('Распределение классов в обучающей выборке')\n",
        "plt.ylabel('Доля класса')\n",
        "plt.xlabel('Класс')\n",
        "plt.tight_layout()\n",
        "plt.show()\n",
        "\n",
        "class_distribution\n"
      ],
      "metadata": {
        "colab": {
          "base_uri": "https://localhost:8080/",
          "height": 568
        },
        "id": "9y-xoRLPhQpu",
        "outputId": "ec516779-2200-41d3-fb26-455e90187232"
      },
      "execution_count": null,
      "outputs": [
        {
          "output_type": "display_data",
          "data": {
            "text/plain": [
              "<Figure size 600x400 with 1 Axes>"
            ],
            "image/png": "[encoded data removed]"
          },
          "metadata": {}
        },
        {
          "output_type": "execute_result",
          "data": {
            "text/plain": [
              "label\n",
              "retained    0.822624\n",
              "churned     0.177376\n",
              "Name: proportion, dtype: float64"
            ],
            "text/html": [
              "<div>\n",
              "<style scoped>\n",
              "    .dataframe tbody tr th:only-of-type {\n",
              "        vertical-align: middle;\n",
              "    }\n",
              "\n",
              "    .dataframe tbody tr th {\n",
              "        vertical-align: top;\n",
              "    }\n",
              "\n",
              "    .dataframe thead th {\n",
              "        text-align: right;\n",
              "    }\n",
              "</style>\n",
              "<table border=\"1\" class=\"dataframe\">\n",
              "  <thead>\n",
              "    <tr style=\"text-align: right;\">\n",
              "      <th></th>\n",
              "      <th>proportion</th>\n",
              "    </tr>\n",
              "    <tr>\n",
              "      <th>label</th>\n",
              "      <th></th>\n",
              "    </tr>\n",
              "  </thead>\n",
              "  <tbody>\n",
              "    <tr>\n",
              "      <th>retained</th>\n",
              "      <td>0.822624</td>\n",
              "    </tr>\n",
              "    <tr>\n",
              "      <th>churned</th>\n",
              "      <td>0.177376</td>\n",
              "    </tr>\n",
              "  </tbody>\n",
              "</table>\n",
              "</div><br><label><b>dtype:</b> float64</label>"
            ]
          },
          "metadata": {},
          "execution_count": 34
        }
      ]
    },
    {
      "cell_type": "markdown",
      "source": [
        "Распределение классов в целевой переменной label показывает, что около 82.26% записей относятся к классу \"retained\", и примерно 17.74% — к классу \"churned\". Это указывает на несбалансированность классов."
      ],
      "metadata": {
        "id": "cPQM9H0XhUfp"
      }
    },
    {
      "cell_type": "markdown",
      "source": [
        "Применим изменение весов классов в модели KNN и сравним результаты"
      ],
      "metadata": {
        "id": "zZZzZtn2haQD"
      }
    },
    {
      "cell_type": "code",
      "source": [
        "from sklearn.utils.class_weight import compute_class_weight\n",
        "import numpy as np\n",
        "\n",
        "# Определение весов классов\n",
        "class_weights = compute_class_weight(class_weight='balanced', classes=np.unique(y_train), y=y_train)\n",
        "weights_dict = dict(zip(np.unique(y_train), class_weights))\n",
        "\n",
        "# Вывод рассчитанных весов\n",
        "weights_dict\n"
      ],
      "metadata": {
        "colab": {
          "base_uri": "https://localhost:8080/"
        },
        "id": "fAipnfwmhdM1",
        "outputId": "d019b515-e735-4757-f13c-9c7939b35aee"
      },
      "execution_count": null,
      "outputs": [
        {
          "output_type": "execute_result",
          "data": {
            "text/plain": [
              "{'churned': 2.818876293740759, 'retained': 0.6078108395324123}"
            ]
          },
          "metadata": {},
          "execution_count": 35
        }
      ]
    },
    {
      "cell_type": "code",
      "source": [
        "from sklearn.linear_model import LogisticRegression\n",
        "\n",
        "# Создание и обучение модели логистической регрессии с учетом весов классов\n",
        "log_reg = LogisticRegression(class_weight=weights_dict, max_iter=1000, random_state=42)\n",
        "log_reg.fit(X_train, y_train)\n",
        "\n",
        "# Оценка точности на обучающей и тестовой выборках\n",
        "log_train_accuracy = accuracy_score(y_train, log_reg.predict(X_train))\n",
        "log_test_accuracy = accuracy_score(y_test, log_reg.predict(X_test))\n",
        "\n",
        "# Вычисление ошибок для логистической регрессии\n",
        "log_train_error = 1 - log_train_accuracy\n",
        "log_test_error = 1 - log_test_accuracy\n",
        "\n",
        "log_train_accuracy, log_test_accuracy, log_train_error, log_test_error\n"
      ],
      "metadata": {
        "colab": {
          "base_uri": "https://localhost:8080/"
        },
        "id": "ERy_VKoJhgxw",
        "outputId": "1b8b4d51-28f9-4334-e6ec-5c0ed7116c6d"
      },
      "execution_count": null,
      "outputs": [
        {
          "output_type": "execute_result",
          "data": {
            "text/plain": [
              "(0.6769822536935047,\n",
              " 0.6688811188811189,\n",
              " 0.32301774630649527,\n",
              " 0.3311188811188811)"
            ]
          },
          "metadata": {},
          "execution_count": 36
        }
      ]
    },
    {
      "cell_type": "markdown",
      "source": [
        "Результаты модели логистической регрессии с учетом весов классов:\n",
        "\n",
        "* Точность на обучающей выборке: 67.70%\n",
        "* Точность на тестовой выборке: 66.92%\n",
        "* Ошибка на обучающей выборке: 32.30%\n",
        "* Ошибка на тестовой выборке: 33.08%"
      ],
      "metadata": {
        "id": "sBhKAtbQhju9"
      }
    },
    {
      "cell_type": "markdown",
      "source": [
        "Эти результаты ниже, чем у модели KNN. Однако логистическая регрессия более устойчива к несбалансированным классам и учитывает веса при обучении."
      ],
      "metadata": {
        "id": "piwznfK_hrAi"
      }
    },
    {
      "cell_type": "markdown",
      "source": [
        "Проведем сравнение с SVM моделью"
      ],
      "metadata": {
        "id": "VbdT5cHLhuPc"
      }
    },
    {
      "cell_type": "code",
      "source": [
        "from sklearn.svm import SVC\n",
        "\n",
        "# Создание и обучение SVM-классификатора с учетом весов классов\n",
        "svm_classifier = SVC(class_weight=weights_dict, random_state=42)\n",
        "svm_classifier.fit(X_train, y_train)\n",
        "\n",
        "# Оценка точности на обучающей и тестовой выборках\n",
        "svm_train_accuracy = accuracy_score(y_train, svm_classifier.predict(X_train))\n",
        "svm_test_accuracy = accuracy_score(y_test, svm_classifier.predict(X_test))\n",
        "\n",
        "# Вычисление ошибок для SVM\n",
        "svm_train_error = 1 - svm_train_accuracy\n",
        "svm_test_error = 1 - svm_test_accuracy\n",
        "\n",
        "svm_train_accuracy, svm_test_accuracy, svm_train_error, svm_test_error\n"
      ],
      "metadata": {
        "colab": {
          "base_uri": "https://localhost:8080/"
        },
        "id": "2hgUsr_Gh0CF",
        "outputId": "5e0b5364-fb92-485b-fb5c-02c936d2c971"
      },
      "execution_count": null,
      "outputs": [
        {
          "output_type": "execute_result",
          "data": {
            "text/plain": [
              "(0.6886091441559576,\n",
              " 0.6727272727272727,\n",
              " 0.31139085584404236,\n",
              " 0.32727272727272727)"
            ]
          },
          "metadata": {},
          "execution_count": 37
        }
      ]
    },
    {
      "cell_type": "markdown",
      "source": [
        "Результаты модели SVM с учетом весов классов:\n",
        "\n",
        "* Точность на обучающей выборке: 68.86%\n",
        "* Точность на тестовой выборке: 67.27%\n",
        "* Ошибка на обучающей выборке: 31.14%\n",
        "* Ошибка на тестовой выборке: 32.73%"
      ],
      "metadata": {
        "id": "39ziUyMqh84Q"
      }
    },
    {
      "cell_type": "markdown",
      "source": [
        "Модель SVM показывает немного лучшие результаты по сравнению с логистической регрессией, но всё же уступает KNN по точности. Это может быть связано с характеристиками данных и их распределением."
      ],
      "metadata": {
        "id": "5LKx00KliEdM"
      }
    },
    {
      "cell_type": "markdown",
      "source": [
        "Попробуем SMOTE модель"
      ],
      "metadata": {
        "id": "tJdvADmHiH8S"
      }
    },
    {
      "cell_type": "code",
      "source": [
        "from imblearn.over_sampling import SMOTE\n",
        "\n",
        "# Создание экземпляра SMOTE для балансировки классов\n",
        "smote = SMOTE(random_state=42)\n",
        "\n",
        "# Применение SMOTE к обучающей выборке\n",
        "X_train_smote, y_train_smote = smote.fit_resample(X_train, y_train)\n",
        "\n",
        "# Проверка распределения классов после применения SMOTE\n",
        "smote_class_distribution = y_train_smote.value_counts(normalize=True)\n",
        "smote_class_distribution\n"
      ],
      "metadata": {
        "colab": {
          "base_uri": "https://localhost:8080/",
          "height": 178
        },
        "id": "pba8YifEiKlc",
        "outputId": "7ab2bd40-9982-44cc-fcaa-cddd249fae4c"
      },
      "execution_count": null,
      "outputs": [
        {
          "output_type": "execute_result",
          "data": {
            "text/plain": [
              "label\n",
              "churned     0.5\n",
              "retained    0.5\n",
              "Name: proportion, dtype: float64"
            ],
            "text/html": [
              "<div>\n",
              "<style scoped>\n",
              "    .dataframe tbody tr th:only-of-type {\n",
              "        vertical-align: middle;\n",
              "    }\n",
              "\n",
              "    .dataframe tbody tr th {\n",
              "        vertical-align: top;\n",
              "    }\n",
              "\n",
              "    .dataframe thead th {\n",
              "        text-align: right;\n",
              "    }\n",
              "</style>\n",
              "<table border=\"1\" class=\"dataframe\">\n",
              "  <thead>\n",
              "    <tr style=\"text-align: right;\">\n",
              "      <th></th>\n",
              "      <th>proportion</th>\n",
              "    </tr>\n",
              "    <tr>\n",
              "      <th>label</th>\n",
              "      <th></th>\n",
              "    </tr>\n",
              "  </thead>\n",
              "  <tbody>\n",
              "    <tr>\n",
              "      <th>churned</th>\n",
              "      <td>0.5</td>\n",
              "    </tr>\n",
              "    <tr>\n",
              "      <th>retained</th>\n",
              "      <td>0.5</td>\n",
              "    </tr>\n",
              "  </tbody>\n",
              "</table>\n",
              "</div><br><label><b>dtype:</b> float64</label>"
            ]
          },
          "metadata": {},
          "execution_count": 38
        }
      ]
    },
    {
      "cell_type": "code",
      "source": [
        "# Обучение KNN с оптимальным значением k=19 на сбалансированных данных\n",
        "knn_smote = KNeighborsClassifier(n_neighbors=optimal_k)\n",
        "knn_smote.fit(X_train_smote, y_train_smote)\n",
        "\n",
        "# Оценка точности на сбалансированной обучающей выборке и исходной тестовой выборке\n",
        "knn_smote_train_accuracy = accuracy_score(y_train_smote, knn_smote.predict(X_train_smote))\n",
        "knn_smote_test_accuracy = accuracy_score(y_test, knn_smote.predict(X_test))\n",
        "\n",
        "# Вычисление ошибок для модели KNN после SMOTE\n",
        "knn_smote_train_error = 1 - knn_smote_train_accuracy\n",
        "knn_smote_test_error = 1 - knn_smote_test_accuracy\n",
        "\n",
        "knn_smote_train_accuracy, knn_smote_test_accuracy, knn_smote_train_error, knn_smote_test_error\n"
      ],
      "metadata": {
        "colab": {
          "base_uri": "https://localhost:8080/"
        },
        "id": "cW-XO0vniaOb",
        "outputId": "bcf367d5-2381-4beb-a0b1-1c4dcaba7c59"
      },
      "execution_count": null,
      "outputs": [
        {
          "output_type": "execute_result",
          "data": {
            "text/plain": [
              "(0.7862911795961742,\n",
              " 0.6325174825174825,\n",
              " 0.21370882040382577,\n",
              " 0.3674825174825175)"
            ]
          },
          "metadata": {},
          "execution_count": 40
        }
      ]
    },
    {
      "cell_type": "markdown",
      "source": [
        "* Точность на обучающей выборке (сбалансированные данные): 78.63%\n",
        "* Точность на тестовой выборке: 63.25%\n",
        "* Ошибка на обучающей выборке: 21.37%\n",
        "* Ошибка на тестовой выборке: 36.75%"
      ],
      "metadata": {
        "id": "QBC-c8gyipDK"
      }
    },
    {
      "cell_type": "markdown",
      "source": [
        "Попробуем использовать undersampling"
      ],
      "metadata": {
        "id": "4BK9irTEi4DY"
      }
    },
    {
      "cell_type": "code",
      "source": [
        "from sklearn.utils import resample\n",
        "\n",
        "# Объединение обучающей выборки в один DataFrame для удобства обработки\n",
        "train_data = pd.concat([X_train, y_train], axis=1)\n",
        "\n",
        "# Разделение данных на два класса\n",
        "retained = train_data[train_data['label'] == 'retained']\n",
        "churned = train_data[train_data['label'] == 'churned']\n",
        "\n",
        "# Применение undersampling к классу 'retained' до размера 'churned'\n",
        "retained_downsampled = resample(\n",
        "    retained,\n",
        "    replace=False,  # без замены\n",
        "    n_samples=len(churned),  # количество записей как в меньшем классе\n",
        "    random_state=42\n",
        ")\n",
        "\n",
        "# Объединение downsampled данных\n",
        "undersampled_data = pd.concat([retained_downsampled, churned])\n",
        "\n",
        "# Разделение на признаки и целевую переменную после undersampling\n",
        "X_train_undersampled = undersampled_data.drop('label', axis=1)\n",
        "y_train_undersampled = undersampled_data['label']\n",
        "\n",
        "# Проверка нового распределения классов\n",
        "undersample_class_distribution = y_train_undersampled.value_counts(normalize=True)\n",
        "undersample_class_distribution\n"
      ],
      "metadata": {
        "colab": {
          "base_uri": "https://localhost:8080/",
          "height": 178
        },
        "id": "ETgpeI6Oi8VJ",
        "outputId": "a87e2749-01b8-4c3c-9c2f-5dcdd92b9de8"
      },
      "execution_count": null,
      "outputs": [
        {
          "output_type": "execute_result",
          "data": {
            "text/plain": [
              "label\n",
              "retained    0.5\n",
              "churned     0.5\n",
              "Name: proportion, dtype: float64"
            ],
            "text/html": [
              "<div>\n",
              "<style scoped>\n",
              "    .dataframe tbody tr th:only-of-type {\n",
              "        vertical-align: middle;\n",
              "    }\n",
              "\n",
              "    .dataframe tbody tr th {\n",
              "        vertical-align: top;\n",
              "    }\n",
              "\n",
              "    .dataframe thead th {\n",
              "        text-align: right;\n",
              "    }\n",
              "</style>\n",
              "<table border=\"1\" class=\"dataframe\">\n",
              "  <thead>\n",
              "    <tr style=\"text-align: right;\">\n",
              "      <th></th>\n",
              "      <th>proportion</th>\n",
              "    </tr>\n",
              "    <tr>\n",
              "      <th>label</th>\n",
              "      <th></th>\n",
              "    </tr>\n",
              "  </thead>\n",
              "  <tbody>\n",
              "    <tr>\n",
              "      <th>retained</th>\n",
              "      <td>0.5</td>\n",
              "    </tr>\n",
              "    <tr>\n",
              "      <th>churned</th>\n",
              "      <td>0.5</td>\n",
              "    </tr>\n",
              "  </tbody>\n",
              "</table>\n",
              "</div><br><label><b>dtype:</b> float64</label>"
            ]
          },
          "metadata": {},
          "execution_count": 41
        }
      ]
    },
    {
      "cell_type": "code",
      "source": [
        "# Обучение KNN с оптимальным значением k=19 на данных после undersampling\n",
        "knn_undersampled = KNeighborsClassifier(n_neighbors=optimal_k)\n",
        "knn_undersampled.fit(X_train_undersampled, y_train_undersampled)\n",
        "\n",
        "# Оценка точности на undersampled обучающей выборке и исходной тестовой выборке\n",
        "knn_undersampled_train_accuracy = accuracy_score(y_train_undersampled, knn_undersampled.predict(X_train_undersampled))\n",
        "knn_undersampled_test_accuracy = accuracy_score(y_test, knn_undersampled.predict(X_test))\n",
        "\n",
        "# Вычисление ошибок для модели KNN после undersampling\n",
        "knn_undersampled_train_error = 1 - knn_undersampled_train_accuracy\n",
        "knn_undersampled_test_error = 1 - knn_undersampled_test_accuracy\n",
        "\n",
        "knn_undersampled_train_accuracy, knn_undersampled_test_accuracy, knn_undersampled_train_error, knn_undersampled_test_error\n"
      ],
      "metadata": {
        "colab": {
          "base_uri": "https://localhost:8080/"
        },
        "id": "0M2BIWvBjEuM",
        "outputId": "c890220e-3b4a-48d2-ced0-8a5420ba831d"
      },
      "execution_count": null,
      "outputs": [
        {
          "output_type": "execute_result",
          "data": {
            "text/plain": [
              "(0.7065056678166585,\n",
              " 0.6451048951048951,\n",
              " 0.29349433218334153,\n",
              " 0.3548951048951049)"
            ]
          },
          "metadata": {},
          "execution_count": 42
        }
      ]
    },
    {
      "cell_type": "markdown",
      "source": [
        "* Точность на обучающей выборке (undersampled данные): 70.65%\n",
        "* Точность на тестовой выборке: 64.51%\n",
        "* Ошибка на обучающей выборке: 29.35%\n",
        "* Ошибка на тестовой выборке: 35.49%\n",
        "\n",
        "Выводы после применения SMOTE:\n",
        "1. Снижение точности на тестовой выборке: После балансировки с помощью SMOTE точность на тестовой выборке снизилась по сравнению с исходной моделью KNN (до балансировки). Это может быть связано с тем, что модель переобучилась на искусственно увеличенных данных для класса \"churned\".\n",
        "\n",
        "2. Улучшение баланса классов: Применение SMOTE сделало модель более справедливой по отношению к классам, но снизило её общую точность на новых данных."
      ],
      "metadata": {
        "id": "5Uys5zn-jMpo"
      }
    },
    {
      "cell_type": "markdown",
      "source": [
        "Сравнение результатов SMOTE и undersampling:"
      ],
      "metadata": {
        "id": "o87Fpq61jVeh"
      }
    },
    {
      "cell_type": "markdown",
      "source": [
        "Метод SMOTE:\n",
        "\n",
        "* Точность на тестовой выборке: 63.25%\n",
        "* Точность на обучающей выборке: 78.63%\n",
        "* Тестовая выборка показала относительно низкую точность, что может указывать на переобучение из-за увеличенного объема данных для меньшего класса.\n",
        "\n",
        "Метод undersampling:\n",
        "\n",
        "* Точность на тестовой выборке: 64.51%\n",
        "* Точность на обучающей выборке: 70.65%\n",
        "* Этот метод привел к меньшему риску переобучения, но также к более низкой точности на обучающей выборке."
      ],
      "metadata": {
        "id": "QvrW-C-HjYYE"
      }
    },
    {
      "cell_type": "code",
      "source": [
        "from sklearn.ensemble import RandomForestClassifier\n",
        "\n",
        "# Создание и обучение случайного леса с учетом сбалансированных данных\n",
        "random_forest = RandomForestClassifier(class_weight='balanced', random_state=42, n_estimators=100)\n",
        "random_forest.fit(X_train_smote, y_train_smote)  # Используем данные после SMOTE\n",
        "\n",
        "# Оценка точности на обучающей выборке и тестовой выборке\n",
        "rf_train_accuracy = accuracy_score(y_train_smote, random_forest.predict(X_train_smote))\n",
        "rf_test_accuracy = accuracy_score(y_test, random_forest.predict(X_test))\n",
        "\n",
        "# Вычисление ошибок для случайного леса\n",
        "rf_train_error = 1 - rf_train_accuracy\n",
        "rf_test_error = 1 - rf_test_accuracy\n",
        "\n",
        "rf_train_accuracy, rf_test_accuracy, rf_train_error, rf_test_error\n"
      ],
      "metadata": {
        "colab": {
          "base_uri": "https://localhost:8080/"
        },
        "id": "O5OCvhqdmcDf",
        "outputId": "1ddb2ecf-3748-4be7-9d0a-58b3ba35d26c"
      },
      "execution_count": null,
      "outputs": [
        {
          "output_type": "execute_result",
          "data": {
            "text/plain": [
              "(1.0, 0.7730769230769231, 0.0, 0.2269230769230769)"
            ]
          },
          "metadata": {},
          "execution_count": 43
        }
      ]
    },
    {
      "cell_type": "markdown",
      "source": [
        "### Общий вывод по выполненному анализу и моделям\n",
        "\n",
        "1. **Задача и данные**:\n",
        "   - Задача заключалась в предсказании статуса пользователя (например, \"retained\" или \"churned\") на основе характеристик их активности в приложении.\n",
        "   - Датасет содержал 14,999 записей и 13 признаков, включая такие, как количество сессий, пройденное расстояние, дни активности и тип устройства.\n",
        "   - Присутствовала несбалансированность классов: 82.26% записей относились к классу \"retained\" и 17.74% — к классу \"churned\".\n",
        "\n",
        "2. **Предобработка данных**:\n",
        "   - Убрали пропуски в метках label, чтобы все записи были чистыми.\n",
        "   - Признак `device` был закодирован с помощью one-hot encoding.\n",
        "   - Нормализовали числовые данные, чтобы модель KNN работала лучше.\n",
        "\n",
        "3. **Модели и их результаты**:\n",
        "   - **KNN-классификатор**:\n",
        "     - Оптимальное значение \\( k \\) — 19.\n",
        "     - Точность модели на тестовой выборке достигла 82.13%, что делает её наиболее точной из всех рассмотренных моделей.\n",
        "   - **Логистическая регрессия**:\n",
        "     - С учетом весов классов показала точность 66.92% на тестовой выборке.\n",
        "     - Менее чувствительна к несбалансированности, но результат был хуже по сравнению с KNN.\n",
        "   - **SVM**:\n",
        "     - С учетом весов классов показала точность 67.27%.\n",
        "     - Результат был чуть лучше, чем у логистической регрессии, но уступал модели KNN.\n",
        "\n",
        "4. **Как мы боролись с несбалансированностью?**:\n",
        "   - Было тяжело, потому что большинство записей были про тех, кто остался.\n",
        "   - Поэтому мы попробовали два подхода:.\n",
        "   - **SMOTE**:\n",
        "     - Он создает дополнительные записи для меньшего класса, чтобы их стало больше.\n",
        "     - Точность на тестовой выборке составила 63.25%, что оказалось ниже, чем у исходной модели KNN, но при этом модель была более справедлива по отношению к меньшему классу.\n",
        "   - **Undersampling**:\n",
        "     - Мы просто уменьшили количество записей класса \"retained\".\n",
        "     - Точность на тестовой выборке составила 64.51%, что немного лучше, чем у SMOTE, но точность на обучающей выборке снизилась до 70.65%, указывая на более скромное обучение.\n",
        "\n",
        "5. **Выбор модели**:\n",
        "   - **KNN** с \\( k = 19 \\) показал наилучшие результаты по точности в условиях несбалансированных данных, но оказался чувствителен к дисбалансу классов.\n",
        "   - Применение методов балансировки (SMOTE и undersampling) дало свои плюсы и минусы:\n",
        "     - SMOTE более полно использует информацию, но может приводить к переобучению.\n",
        "     - Undersampling снижает риск переобучения, но теряет часть информации.\n",
        "   - В зависимости от приоритетов, можно использовать KNN на несбалансированных данных или применять методы балансировки для улучшения результатов.\n",
        "\n",
        "6. Возможно стоит попробовать еще несколько моделей для получения более лучших результатов\n",
        "\n",
        "Таким образом, выбор подхода зависит от задач и ограничений. Использование KNN на несбалансированных данных может быть оправдано при фокусе на точности, в то время как применение методов балансировки более актуально для задач, где важно учитывать меньший класс."
      ],
      "metadata": {
        "id": "ifyCu1KZj2GW"
      }
    }
  ]
}